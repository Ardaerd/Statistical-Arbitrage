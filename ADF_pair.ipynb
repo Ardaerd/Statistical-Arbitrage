{
 "cells": [
  {
   "cell_type": "code",
   "execution_count": 44,
   "outputs": [],
   "source": [
    "import numpy as np\n",
    "import pandas as pd\n",
    "import yfinance as yf\n",
    "from sklearn.preprocessing import MinMaxScaler\n",
    "from sklearn.model_selection import train_test_split\n",
    "\n"
   ],
   "metadata": {
    "collapsed": false,
    "ExecuteTime": {
     "end_time": "2024-01-15T17:10:28.853419Z",
     "start_time": "2024-01-15T17:10:28.753015Z"
    }
   }
  },
  {
   "cell_type": "code",
   "execution_count": 45,
   "metadata": {
    "collapsed": true,
    "ExecuteTime": {
     "end_time": "2024-01-15T17:10:28.857894Z",
     "start_time": "2024-01-15T17:10:28.759916Z"
    }
   },
   "outputs": [
    {
     "data": {
      "text/plain": "            Date        ADSK        ORCL         PTC        CDNS         FICO  \\\n0     2020-01-02  187.830002   50.359100   76.370003   71.440002   382.920013   \n1     2020-01-03  184.949997   50.181740   75.430000   70.419998   381.920013   \n2     2020-01-06  187.119995   50.443100   76.269997   70.849998   384.000000   \n3     2020-01-07  187.500000   50.555126   75.919998   71.070000   388.489990   \n4     2020-01-08  189.949997   50.752010   76.980003   72.279999   391.329987   \n...          ...         ...         ...         ...         ...          ...   \n1001  2023-12-22  242.759995  105.790077  173.970001  275.820007  1168.880005   \n1002  2023-12-26  245.070007  105.780121  175.309998  274.959991  1164.619995   \n1003  2023-12-27  245.110001  105.531090  175.720001  274.640015  1170.609985   \n1004  2023-12-28  244.910004  105.839890  175.919998  273.239990  1169.339966   \n1005  2023-12-29  243.479996  105.023056  174.960007  272.369995  1164.010010   \n\n             CRM        SNPS        INTU         TYL  ...         NOW  \\\n0     166.990005  142.869995  258.836151  306.239990  ...  291.239990   \n1     166.169998  141.759995  257.105133  306.670013  ...  291.100006   \n2     173.449997  141.979996  259.079346  310.209991  ...  292.869995   \n3     176.000000  142.960007  259.137634  311.269989  ...  292.910004   \n4     177.330002  145.860001  265.371277  310.989990  ...  295.649994   \n...          ...         ...         ...         ...  ...         ...   \n1001  266.339996  524.460022  623.131348  415.000000  ...  697.549988   \n1002  266.220001  520.250000  623.910156  416.410004  ...  701.229980   \n1003  266.720001  518.099976  628.173767  415.600006  ...  703.760010   \n1004  265.579987  517.409973  627.075439  418.290009  ...  702.460022   \n1005  263.140015  514.909973  624.089966  418.119995  ...  706.489990   \n\n            MSFT        PANW         CDW       NTAP        STX        HPQ  \\\n0     154.779541   78.470001  137.363739  55.579060  51.156185  18.257439   \n1     152.852264   78.943336  135.712097  54.631645  49.811756  18.029110   \n2     153.247345   80.086670  134.690536  54.498821  49.219864  18.099367   \n3     151.850082   80.546669  134.537781  54.853001  49.811756  18.143276   \n4     154.268814   79.523331  134.337265  55.906673  50.200710  18.380386   \n...          ...         ...         ...        ...        ...        ...   \n1001  374.579987  298.209991  226.630005  88.882095  85.160004  30.180000   \n1002  374.660004  300.820007  228.729996  88.862213  85.870003  30.410000   \n1003  374.070007  297.500000  228.550003  88.086731  85.680000  30.240000   \n1004  375.279999  295.579987  228.699997  87.698990  86.790001  30.180000   \n1005  376.040009  294.880005  227.320007  87.649284  85.370003  30.090000   \n\n            WDC        AAPL        HPE  \n0     64.771545   73.152641  14.081444  \n1     63.774597   72.441467  13.733110  \n2     62.550629   73.018684  13.689568  \n3     66.785164   72.675278  13.619902  \n4     67.752487   73.844353  13.724401  \n...         ...         ...        ...  \n1001  52.660000  193.600006  17.090000  \n1002  52.759998  193.050003  17.230000  \n1003  52.419998  193.149994  17.090000  \n1004  52.930000  193.580002  17.170000  \n1005  52.369999  192.529999  16.980000  \n\n[1006 rows x 65 columns]",
      "text/html": "<div>\n<style scoped>\n    .dataframe tbody tr th:only-of-type {\n        vertical-align: middle;\n    }\n\n    .dataframe tbody tr th {\n        vertical-align: top;\n    }\n\n    .dataframe thead th {\n        text-align: right;\n    }\n</style>\n<table border=\"1\" class=\"dataframe\">\n  <thead>\n    <tr style=\"text-align: right;\">\n      <th></th>\n      <th>Date</th>\n      <th>ADSK</th>\n      <th>ORCL</th>\n      <th>PTC</th>\n      <th>CDNS</th>\n      <th>FICO</th>\n      <th>CRM</th>\n      <th>SNPS</th>\n      <th>INTU</th>\n      <th>TYL</th>\n      <th>...</th>\n      <th>NOW</th>\n      <th>MSFT</th>\n      <th>PANW</th>\n      <th>CDW</th>\n      <th>NTAP</th>\n      <th>STX</th>\n      <th>HPQ</th>\n      <th>WDC</th>\n      <th>AAPL</th>\n      <th>HPE</th>\n    </tr>\n  </thead>\n  <tbody>\n    <tr>\n      <th>0</th>\n      <td>2020-01-02</td>\n      <td>187.830002</td>\n      <td>50.359100</td>\n      <td>76.370003</td>\n      <td>71.440002</td>\n      <td>382.920013</td>\n      <td>166.990005</td>\n      <td>142.869995</td>\n      <td>258.836151</td>\n      <td>306.239990</td>\n      <td>...</td>\n      <td>291.239990</td>\n      <td>154.779541</td>\n      <td>78.470001</td>\n      <td>137.363739</td>\n      <td>55.579060</td>\n      <td>51.156185</td>\n      <td>18.257439</td>\n      <td>64.771545</td>\n      <td>73.152641</td>\n      <td>14.081444</td>\n    </tr>\n    <tr>\n      <th>1</th>\n      <td>2020-01-03</td>\n      <td>184.949997</td>\n      <td>50.181740</td>\n      <td>75.430000</td>\n      <td>70.419998</td>\n      <td>381.920013</td>\n      <td>166.169998</td>\n      <td>141.759995</td>\n      <td>257.105133</td>\n      <td>306.670013</td>\n      <td>...</td>\n      <td>291.100006</td>\n      <td>152.852264</td>\n      <td>78.943336</td>\n      <td>135.712097</td>\n      <td>54.631645</td>\n      <td>49.811756</td>\n      <td>18.029110</td>\n      <td>63.774597</td>\n      <td>72.441467</td>\n      <td>13.733110</td>\n    </tr>\n    <tr>\n      <th>2</th>\n      <td>2020-01-06</td>\n      <td>187.119995</td>\n      <td>50.443100</td>\n      <td>76.269997</td>\n      <td>70.849998</td>\n      <td>384.000000</td>\n      <td>173.449997</td>\n      <td>141.979996</td>\n      <td>259.079346</td>\n      <td>310.209991</td>\n      <td>...</td>\n      <td>292.869995</td>\n      <td>153.247345</td>\n      <td>80.086670</td>\n      <td>134.690536</td>\n      <td>54.498821</td>\n      <td>49.219864</td>\n      <td>18.099367</td>\n      <td>62.550629</td>\n      <td>73.018684</td>\n      <td>13.689568</td>\n    </tr>\n    <tr>\n      <th>3</th>\n      <td>2020-01-07</td>\n      <td>187.500000</td>\n      <td>50.555126</td>\n      <td>75.919998</td>\n      <td>71.070000</td>\n      <td>388.489990</td>\n      <td>176.000000</td>\n      <td>142.960007</td>\n      <td>259.137634</td>\n      <td>311.269989</td>\n      <td>...</td>\n      <td>292.910004</td>\n      <td>151.850082</td>\n      <td>80.546669</td>\n      <td>134.537781</td>\n      <td>54.853001</td>\n      <td>49.811756</td>\n      <td>18.143276</td>\n      <td>66.785164</td>\n      <td>72.675278</td>\n      <td>13.619902</td>\n    </tr>\n    <tr>\n      <th>4</th>\n      <td>2020-01-08</td>\n      <td>189.949997</td>\n      <td>50.752010</td>\n      <td>76.980003</td>\n      <td>72.279999</td>\n      <td>391.329987</td>\n      <td>177.330002</td>\n      <td>145.860001</td>\n      <td>265.371277</td>\n      <td>310.989990</td>\n      <td>...</td>\n      <td>295.649994</td>\n      <td>154.268814</td>\n      <td>79.523331</td>\n      <td>134.337265</td>\n      <td>55.906673</td>\n      <td>50.200710</td>\n      <td>18.380386</td>\n      <td>67.752487</td>\n      <td>73.844353</td>\n      <td>13.724401</td>\n    </tr>\n    <tr>\n      <th>...</th>\n      <td>...</td>\n      <td>...</td>\n      <td>...</td>\n      <td>...</td>\n      <td>...</td>\n      <td>...</td>\n      <td>...</td>\n      <td>...</td>\n      <td>...</td>\n      <td>...</td>\n      <td>...</td>\n      <td>...</td>\n      <td>...</td>\n      <td>...</td>\n      <td>...</td>\n      <td>...</td>\n      <td>...</td>\n      <td>...</td>\n      <td>...</td>\n      <td>...</td>\n      <td>...</td>\n    </tr>\n    <tr>\n      <th>1001</th>\n      <td>2023-12-22</td>\n      <td>242.759995</td>\n      <td>105.790077</td>\n      <td>173.970001</td>\n      <td>275.820007</td>\n      <td>1168.880005</td>\n      <td>266.339996</td>\n      <td>524.460022</td>\n      <td>623.131348</td>\n      <td>415.000000</td>\n      <td>...</td>\n      <td>697.549988</td>\n      <td>374.579987</td>\n      <td>298.209991</td>\n      <td>226.630005</td>\n      <td>88.882095</td>\n      <td>85.160004</td>\n      <td>30.180000</td>\n      <td>52.660000</td>\n      <td>193.600006</td>\n      <td>17.090000</td>\n    </tr>\n    <tr>\n      <th>1002</th>\n      <td>2023-12-26</td>\n      <td>245.070007</td>\n      <td>105.780121</td>\n      <td>175.309998</td>\n      <td>274.959991</td>\n      <td>1164.619995</td>\n      <td>266.220001</td>\n      <td>520.250000</td>\n      <td>623.910156</td>\n      <td>416.410004</td>\n      <td>...</td>\n      <td>701.229980</td>\n      <td>374.660004</td>\n      <td>300.820007</td>\n      <td>228.729996</td>\n      <td>88.862213</td>\n      <td>85.870003</td>\n      <td>30.410000</td>\n      <td>52.759998</td>\n      <td>193.050003</td>\n      <td>17.230000</td>\n    </tr>\n    <tr>\n      <th>1003</th>\n      <td>2023-12-27</td>\n      <td>245.110001</td>\n      <td>105.531090</td>\n      <td>175.720001</td>\n      <td>274.640015</td>\n      <td>1170.609985</td>\n      <td>266.720001</td>\n      <td>518.099976</td>\n      <td>628.173767</td>\n      <td>415.600006</td>\n      <td>...</td>\n      <td>703.760010</td>\n      <td>374.070007</td>\n      <td>297.500000</td>\n      <td>228.550003</td>\n      <td>88.086731</td>\n      <td>85.680000</td>\n      <td>30.240000</td>\n      <td>52.419998</td>\n      <td>193.149994</td>\n      <td>17.090000</td>\n    </tr>\n    <tr>\n      <th>1004</th>\n      <td>2023-12-28</td>\n      <td>244.910004</td>\n      <td>105.839890</td>\n      <td>175.919998</td>\n      <td>273.239990</td>\n      <td>1169.339966</td>\n      <td>265.579987</td>\n      <td>517.409973</td>\n      <td>627.075439</td>\n      <td>418.290009</td>\n      <td>...</td>\n      <td>702.460022</td>\n      <td>375.279999</td>\n      <td>295.579987</td>\n      <td>228.699997</td>\n      <td>87.698990</td>\n      <td>86.790001</td>\n      <td>30.180000</td>\n      <td>52.930000</td>\n      <td>193.580002</td>\n      <td>17.170000</td>\n    </tr>\n    <tr>\n      <th>1005</th>\n      <td>2023-12-29</td>\n      <td>243.479996</td>\n      <td>105.023056</td>\n      <td>174.960007</td>\n      <td>272.369995</td>\n      <td>1164.010010</td>\n      <td>263.140015</td>\n      <td>514.909973</td>\n      <td>624.089966</td>\n      <td>418.119995</td>\n      <td>...</td>\n      <td>706.489990</td>\n      <td>376.040009</td>\n      <td>294.880005</td>\n      <td>227.320007</td>\n      <td>87.649284</td>\n      <td>85.370003</td>\n      <td>30.090000</td>\n      <td>52.369999</td>\n      <td>192.529999</td>\n      <td>16.980000</td>\n    </tr>\n  </tbody>\n</table>\n<p>1006 rows × 65 columns</p>\n</div>"
     },
     "execution_count": 45,
     "metadata": {},
     "output_type": "execute_result"
    }
   ],
   "source": [
    "data = pd.read_csv(\"Technology_Firm_Stock_Price.csv\")\n",
    "data = data.sort_values(by=\"Date\")\n",
    "#data = data.drop(columns=[\"Date\"])\n",
    "#data = data.iloc[-197:]\n",
    "data"
   ]
  },
  {
   "cell_type": "markdown",
   "source": [
    "PAIR DETECTION WITH CORRELATION MATRIX"
   ],
   "metadata": {
    "collapsed": false
   }
  },
  {
   "cell_type": "code",
   "execution_count": 46,
   "outputs": [
    {
     "data": {
      "text/plain": "          ADSK      ORCL       PTC      CDNS      FICO       CRM      SNPS  \\\nADSK  1.000000  0.033558  0.364650 -0.045552 -0.130644  0.770475 -0.045592   \nORCL  0.033558  1.000000  0.800153  0.929141  0.798434  0.277840  0.922869   \nPTC   0.364650  0.800153  1.000000  0.808565  0.721089  0.347583  0.803030   \nCDNS -0.045552  0.929141  0.808565  1.000000  0.847399  0.182416  0.992423   \nFICO -0.130644  0.798434  0.721089  0.847399  1.000000  0.099425  0.842961   \n\n          INTU       TYL      ADBE  ...       NOW      MSFT      PANW  \\\nADSK  0.403431  0.793004  0.729735  ...  0.614360  0.162965 -0.130641   \nORCL  0.781789  0.346352  0.458454  ...  0.637603  0.917556  0.894267   \nPTC   0.726238  0.467326  0.491071  ...  0.688597  0.787128  0.745249   \nCDNS  0.736151  0.258545  0.342224  ...  0.609576  0.909839  0.953162   \nFICO  0.445186  0.016746  0.241939  ...  0.421718  0.681347  0.776965   \n\n           CDW      NTAP       STX       HPQ       WDC      AAPL       HPE  \nADSK  0.125149  0.344730  0.420855  0.090419  0.609353  0.078999 -0.010106  \nORCL  0.868903  0.755771  0.486434  0.641725 -0.094131  0.870376  0.818218  \nPTC   0.841333  0.776184  0.551928  0.665284  0.211154  0.795481  0.783851  \nCDNS  0.864175  0.689381  0.419067  0.635492 -0.229538  0.919708  0.762570  \nFICO  0.657856  0.414990  0.129415  0.316760 -0.251649  0.671287  0.621525  \n\n[5 rows x 64 columns]",
      "text/html": "<div>\n<style scoped>\n    .dataframe tbody tr th:only-of-type {\n        vertical-align: middle;\n    }\n\n    .dataframe tbody tr th {\n        vertical-align: top;\n    }\n\n    .dataframe thead th {\n        text-align: right;\n    }\n</style>\n<table border=\"1\" class=\"dataframe\">\n  <thead>\n    <tr style=\"text-align: right;\">\n      <th></th>\n      <th>ADSK</th>\n      <th>ORCL</th>\n      <th>PTC</th>\n      <th>CDNS</th>\n      <th>FICO</th>\n      <th>CRM</th>\n      <th>SNPS</th>\n      <th>INTU</th>\n      <th>TYL</th>\n      <th>ADBE</th>\n      <th>...</th>\n      <th>NOW</th>\n      <th>MSFT</th>\n      <th>PANW</th>\n      <th>CDW</th>\n      <th>NTAP</th>\n      <th>STX</th>\n      <th>HPQ</th>\n      <th>WDC</th>\n      <th>AAPL</th>\n      <th>HPE</th>\n    </tr>\n  </thead>\n  <tbody>\n    <tr>\n      <th>ADSK</th>\n      <td>1.000000</td>\n      <td>0.033558</td>\n      <td>0.364650</td>\n      <td>-0.045552</td>\n      <td>-0.130644</td>\n      <td>0.770475</td>\n      <td>-0.045592</td>\n      <td>0.403431</td>\n      <td>0.793004</td>\n      <td>0.729735</td>\n      <td>...</td>\n      <td>0.614360</td>\n      <td>0.162965</td>\n      <td>-0.130641</td>\n      <td>0.125149</td>\n      <td>0.344730</td>\n      <td>0.420855</td>\n      <td>0.090419</td>\n      <td>0.609353</td>\n      <td>0.078999</td>\n      <td>-0.010106</td>\n    </tr>\n    <tr>\n      <th>ORCL</th>\n      <td>0.033558</td>\n      <td>1.000000</td>\n      <td>0.800153</td>\n      <td>0.929141</td>\n      <td>0.798434</td>\n      <td>0.277840</td>\n      <td>0.922869</td>\n      <td>0.781789</td>\n      <td>0.346352</td>\n      <td>0.458454</td>\n      <td>...</td>\n      <td>0.637603</td>\n      <td>0.917556</td>\n      <td>0.894267</td>\n      <td>0.868903</td>\n      <td>0.755771</td>\n      <td>0.486434</td>\n      <td>0.641725</td>\n      <td>-0.094131</td>\n      <td>0.870376</td>\n      <td>0.818218</td>\n    </tr>\n    <tr>\n      <th>PTC</th>\n      <td>0.364650</td>\n      <td>0.800153</td>\n      <td>1.000000</td>\n      <td>0.808565</td>\n      <td>0.721089</td>\n      <td>0.347583</td>\n      <td>0.803030</td>\n      <td>0.726238</td>\n      <td>0.467326</td>\n      <td>0.491071</td>\n      <td>...</td>\n      <td>0.688597</td>\n      <td>0.787128</td>\n      <td>0.745249</td>\n      <td>0.841333</td>\n      <td>0.776184</td>\n      <td>0.551928</td>\n      <td>0.665284</td>\n      <td>0.211154</td>\n      <td>0.795481</td>\n      <td>0.783851</td>\n    </tr>\n    <tr>\n      <th>CDNS</th>\n      <td>-0.045552</td>\n      <td>0.929141</td>\n      <td>0.808565</td>\n      <td>1.000000</td>\n      <td>0.847399</td>\n      <td>0.182416</td>\n      <td>0.992423</td>\n      <td>0.736151</td>\n      <td>0.258545</td>\n      <td>0.342224</td>\n      <td>...</td>\n      <td>0.609576</td>\n      <td>0.909839</td>\n      <td>0.953162</td>\n      <td>0.864175</td>\n      <td>0.689381</td>\n      <td>0.419067</td>\n      <td>0.635492</td>\n      <td>-0.229538</td>\n      <td>0.919708</td>\n      <td>0.762570</td>\n    </tr>\n    <tr>\n      <th>FICO</th>\n      <td>-0.130644</td>\n      <td>0.798434</td>\n      <td>0.721089</td>\n      <td>0.847399</td>\n      <td>1.000000</td>\n      <td>0.099425</td>\n      <td>0.842961</td>\n      <td>0.445186</td>\n      <td>0.016746</td>\n      <td>0.241939</td>\n      <td>...</td>\n      <td>0.421718</td>\n      <td>0.681347</td>\n      <td>0.776965</td>\n      <td>0.657856</td>\n      <td>0.414990</td>\n      <td>0.129415</td>\n      <td>0.316760</td>\n      <td>-0.251649</td>\n      <td>0.671287</td>\n      <td>0.621525</td>\n    </tr>\n  </tbody>\n</table>\n<p>5 rows × 64 columns</p>\n</div>"
     },
     "execution_count": 46,
     "metadata": {},
     "output_type": "execute_result"
    }
   ],
   "source": [
    "correlation_matrix = data.drop(columns=[\"Date\"]).corr()\n",
    "\n",
    "correlation_matrix.head()\n"
   ],
   "metadata": {
    "collapsed": false,
    "ExecuteTime": {
     "end_time": "2024-01-15T17:10:28.864620Z",
     "start_time": "2024-01-15T17:10:28.794862Z"
    }
   }
  },
  {
   "cell_type": "code",
   "execution_count": 47,
   "outputs": [
    {
     "data": {
      "text/plain": "           Pair  Correlation\n0  (SNPS, CDNS)     0.992423\n1  (SWKS, QRVO)     0.973076\n2  (LRCX, AMAT)     0.970685\n3     (MSI, IT)     0.968869\n4  (KLAC, SNPS)     0.967592",
      "text/html": "<div>\n<style scoped>\n    .dataframe tbody tr th:only-of-type {\n        vertical-align: middle;\n    }\n\n    .dataframe tbody tr th {\n        vertical-align: top;\n    }\n\n    .dataframe thead th {\n        text-align: right;\n    }\n</style>\n<table border=\"1\" class=\"dataframe\">\n  <thead>\n    <tr style=\"text-align: right;\">\n      <th></th>\n      <th>Pair</th>\n      <th>Correlation</th>\n    </tr>\n  </thead>\n  <tbody>\n    <tr>\n      <th>0</th>\n      <td>(SNPS, CDNS)</td>\n      <td>0.992423</td>\n    </tr>\n    <tr>\n      <th>1</th>\n      <td>(SWKS, QRVO)</td>\n      <td>0.973076</td>\n    </tr>\n    <tr>\n      <th>2</th>\n      <td>(LRCX, AMAT)</td>\n      <td>0.970685</td>\n    </tr>\n    <tr>\n      <th>3</th>\n      <td>(MSI, IT)</td>\n      <td>0.968869</td>\n    </tr>\n    <tr>\n      <th>4</th>\n      <td>(KLAC, SNPS)</td>\n      <td>0.967592</td>\n    </tr>\n  </tbody>\n</table>\n</div>"
     },
     "execution_count": 47,
     "metadata": {},
     "output_type": "execute_result"
    }
   ],
   "source": [
    "corr_threshold = 0.95\n",
    "\n",
    "highly_correlated_pairs = correlation_matrix.unstack().sort_values(kind=\"quicksort\", ascending=False)\n",
    "highly_correlated_pairs = highly_correlated_pairs[highly_correlated_pairs < 1] #remove 1.0 correlation(same stock)\n",
    "highly_correlated_pairs = highly_correlated_pairs[highly_correlated_pairs > corr_threshold]\n",
    "\n",
    "seen_pairs = set()\n",
    "unique_highly_correlated_pairs = {}\n",
    "\n",
    "for (stock1, stock2), correlation in highly_correlated_pairs.items():\n",
    "    if (stock2, stock1) not in seen_pairs:\n",
    "        unique_highly_correlated_pairs[(stock1, stock2)] = correlation\n",
    "        seen_pairs.add((stock1, stock2))\n",
    "\n",
    "unique_highly_correlated_pairs_df = pd.DataFrame(list(unique_highly_correlated_pairs.items()), columns=[\"Pair\", \"Correlation\"])\n",
    "unique_highly_correlated_pairs_df.head()\n"
   ],
   "metadata": {
    "collapsed": false,
    "ExecuteTime": {
     "end_time": "2024-01-15T17:10:28.866920Z",
     "start_time": "2024-01-15T17:10:28.823020Z"
    }
   }
  },
  {
   "cell_type": "markdown",
   "source": [
    "PAIR DETECTION WITH STATIONARITY"
   ],
   "metadata": {
    "collapsed": false
   }
  },
  {
   "cell_type": "code",
   "execution_count": 48,
   "outputs": [
    {
     "data": {
      "text/plain": "[('ADSK', 'ORCL'),\n ('ADSK', 'PTC'),\n ('ADSK', 'CDNS'),\n ('ADSK', 'FICO'),\n ('ADSK', 'CRM')]"
     },
     "execution_count": 48,
     "metadata": {},
     "output_type": "execute_result"
    }
   ],
   "source": [
    "from itertools import combinations\n",
    "from statsmodels.tsa.stattools import adfuller\n",
    "\n",
    "def perform_adf_test(series):\n",
    "    result = adfuller(series, autolag='AIC')\n",
    "    adf_statistic = result[0]\n",
    "    p_value = result[1]\n",
    "    return adf_statistic, p_value\n",
    "\n",
    "stock_names = data.columns[1:]  # Excluding the 'Date' column\n",
    "all_pairs = list(combinations(stock_names, 2))\n",
    "\n",
    "all_pairs[:5]"
   ],
   "metadata": {
    "collapsed": false,
    "ExecuteTime": {
     "end_time": "2024-01-15T17:10:28.867186Z",
     "start_time": "2024-01-15T17:10:28.834266Z"
    }
   }
  },
  {
   "cell_type": "code",
   "execution_count": 49,
   "outputs": [
    {
     "data": {
      "text/plain": "Empty DataFrame\nColumns: []\nIndex: []",
      "text/html": "<div>\n<style scoped>\n    .dataframe tbody tr th:only-of-type {\n        vertical-align: middle;\n    }\n\n    .dataframe tbody tr th {\n        vertical-align: top;\n    }\n\n    .dataframe thead th {\n        text-align: right;\n    }\n</style>\n<table border=\"1\" class=\"dataframe\">\n  <thead>\n    <tr style=\"text-align: right;\">\n      <th></th>\n    </tr>\n  </thead>\n  <tbody>\n  </tbody>\n</table>\n</div>"
     },
     "execution_count": 49,
     "metadata": {},
     "output_type": "execute_result"
    }
   ],
   "source": [
    "subset_of_pairs = all_pairs[:]\n",
    "adf_results_subset = {}\n",
    "significant_pairs = {}\n",
    "\n",
    "for (stock1, stock2) in subset_of_pairs:\n",
    "    spread = data[stock1] - data[stock2]\n",
    "\n",
    "    adf_statistic, p_value = perform_adf_test(spread)\n",
    "    if p_value < 0.05:\n",
    "        significant_pairs[(stock1, stock2)] = {\"p-value\": p_value}\n",
    "\n",
    "adf_results_subset_df = pd.DataFrame.from_dict(adf_results_subset, orient='index')\n",
    "adf_results_subset_df.head()\n"
   ],
   "metadata": {
    "collapsed": false,
    "ExecuteTime": {
     "end_time": "2024-01-15T17:11:48.666244Z",
     "start_time": "2024-01-15T17:10:28.840117Z"
    }
   }
  },
  {
   "cell_type": "code",
   "execution_count": 50,
   "outputs": [
    {
     "name": "stdout",
     "output_type": "stream",
     "text": [
      "Pairs sorted by p-value (lowest to highest):\n",
      "Pair: ('TDY', 'AMAT'), p-value: 0.0001907500872690749\n",
      "Pair: ('AMAT', 'NXPI'), p-value: 0.0002674613811809587\n",
      "Pair: ('ADSK', 'QRVO'), p-value: 0.0003853620736785319\n",
      "Pair: ('TDY', 'NXPI'), p-value: 0.0006860217137282789\n",
      "Pair: ('TDY', 'KEYS'), p-value: 0.0016303771877787935\n",
      "Pair: ('TDY', 'TXN'), p-value: 0.0016810959925976615\n",
      "Pair: ('CRM', 'ANSS'), p-value: 0.0019704508446071953\n",
      "Pair: ('TDY', 'TEL'), p-value: 0.002167961855906931\n",
      "Pair: ('GLW', 'VRSN'), p-value: 0.0022528970983867525\n",
      "Pair: ('TEL', 'TXN'), p-value: 0.0023269426622398452\n",
      "Pair: ('TDY', 'CDW'), p-value: 0.002330160512535012\n",
      "Pair: ('SNPS', 'KLAC'), p-value: 0.004481651302376043\n",
      "Pair: ('ADSK', 'SWKS'), p-value: 0.004673908985289349\n",
      "Pair: ('VRSN', 'HPE'), p-value: 0.006348182995232051\n",
      "Pair: ('ROP', 'MSFT'), p-value: 0.006818212558553389\n",
      "Pair: ('CSCO', 'VRSN'), p-value: 0.006858907279130494\n",
      "Pair: ('TDY', 'AAPL'), p-value: 0.006955543074475737\n",
      "Pair: ('VRSN', 'GEN'), p-value: 0.007014374271938022\n",
      "Pair: ('TDY', 'STX'), p-value: 0.007020834248909051\n",
      "Pair: ('CDNS', 'ANET'), p-value: 0.00813738847984937\n",
      "Pair: ('IT', 'MPWR'), p-value: 0.008772516713713664\n",
      "Pair: ('TDY', 'AMD'), p-value: 0.008916921477410944\n",
      "Pair: ('TDY', 'QCOM'), p-value: 0.009062064933157575\n",
      "Pair: ('TDY', 'ADI'), p-value: 0.009708350211024175\n",
      "Pair: ('TDY', 'TER'), p-value: 0.010579308469827142\n",
      "Pair: ('TDY', 'NTAP'), p-value: 0.010582129979304522\n",
      "Pair: ('AKAM', 'WDC'), p-value: 0.010940372648338538\n",
      "Pair: ('PTC', 'TDY'), p-value: 0.011128332587353452\n",
      "Pair: ('TDY', 'FTNT'), p-value: 0.012467077602726683\n",
      "Pair: ('VRSN', 'HPQ'), p-value: 0.013697081925062858\n",
      "Pair: ('VRSN', 'MU'), p-value: 0.014667445741164183\n",
      "Pair: ('ORCL', 'TDY'), p-value: 0.015844969957997737\n",
      "Pair: ('TEL', 'NTAP'), p-value: 0.016044317531575706\n",
      "Pair: ('VRSN', 'INTC'), p-value: 0.016316126977144935\n",
      "Pair: ('TYL', 'FFIV'), p-value: 0.01683350745894581\n",
      "Pair: ('SWKS', 'QRVO'), p-value: 0.017849792079870124\n",
      "Pair: ('TDY', 'MCHP'), p-value: 0.018122554461605135\n",
      "Pair: ('JNPR', 'VRSN'), p-value: 0.018393071561161347\n",
      "Pair: ('CTSH', 'VRSN'), p-value: 0.018556692411300913\n",
      "Pair: ('TDY', 'MU'), p-value: 0.018953289178703172\n",
      "Pair: ('APH', 'TDY'), p-value: 0.01898199744491237\n",
      "Pair: ('TDY', 'ON'), p-value: 0.01920086045990299\n",
      "Pair: ('TDY', 'ACN'), p-value: 0.02003419999381772\n",
      "Pair: ('CDNS', 'PANW'), p-value: 0.02019928295691649\n",
      "Pair: ('NXPI', 'CDW'), p-value: 0.02041246904242241\n",
      "Pair: ('VRSN', 'TER'), p-value: 0.02120311662445591\n",
      "Pair: ('VRSN', 'WDC'), p-value: 0.022722278876036426\n",
      "Pair: ('ADSK', 'ANSS'), p-value: 0.022792748740883686\n",
      "Pair: ('AMAT', 'CDW'), p-value: 0.023457886364066483\n",
      "Pair: ('APH', 'MCHP'), p-value: 0.024453926736108186\n",
      "Pair: ('VRSN', 'MCHP'), p-value: 0.025374698526136205\n",
      "Pair: ('ADI', 'AAPL'), p-value: 0.026013920177749155\n",
      "Pair: ('TRMB', 'TER'), p-value: 0.027028534797253707\n",
      "Pair: ('FFIV', 'TDY'), p-value: 0.02719467181634114\n",
      "Pair: ('ANET', 'PANW'), p-value: 0.02838009426787214\n",
      "Pair: ('CTSH', 'MU'), p-value: 0.02902527399452863\n",
      "Pair: ('ZBRA', 'EPAM'), p-value: 0.029332833675615236\n",
      "Pair: ('CRM', 'TYL'), p-value: 0.029620314713801\n",
      "Pair: ('TYL', 'ANSS'), p-value: 0.029642514032377096\n",
      "Pair: ('ADI', 'CDW'), p-value: 0.029772368277143052\n",
      "Pair: ('ORCL', 'ADI'), p-value: 0.02996092377262569\n",
      "Pair: ('TDY', 'JBL'), p-value: 0.03191747410654716\n",
      "Pair: ('CDNS', 'MSI'), p-value: 0.03239896331080013\n",
      "Pair: ('CDW', 'AAPL'), p-value: 0.03257261418556576\n",
      "Pair: ('SNPS', 'MPWR'), p-value: 0.03321983427166295\n",
      "Pair: ('IT', 'KLAC'), p-value: 0.035325394511303336\n",
      "Pair: ('ADBE', 'NOW'), p-value: 0.03604208846291725\n",
      "Pair: ('VRSN', 'AKAM'), p-value: 0.03700572976192924\n",
      "Pair: ('FFIV', 'TER'), p-value: 0.03890372981025941\n",
      "Pair: ('TDY', 'HPQ'), p-value: 0.039072746457927826\n",
      "Pair: ('AKAM', 'INTC'), p-value: 0.03909950833316221\n",
      "Pair: ('TER', 'STX'), p-value: 0.03924656787332026\n",
      "Pair: ('TDY', 'IBM'), p-value: 0.04004954821819929\n",
      "Pair: ('ANSS', 'SWKS'), p-value: 0.041687609691843285\n",
      "Pair: ('ANET', 'MSI'), p-value: 0.04254211373148913\n",
      "Pair: ('CSCO', 'TDY'), p-value: 0.04388334107038866\n",
      "Pair: ('VRSN', 'FTNT'), p-value: 0.04388452214105798\n",
      "Pair: ('ROP', 'NXPI'), p-value: 0.04514959308834204\n",
      "Pair: ('ROP', 'NOW'), p-value: 0.04534290242449575\n",
      "Pair: ('TDY', 'TRMB'), p-value: 0.04568560964972672\n",
      "Pair: ('TER', 'QCOM'), p-value: 0.045920237474993936\n",
      "Pair: ('ROP', 'AMAT'), p-value: 0.047390395176462374\n",
      "Pair: ('KLAC', 'MPWR'), p-value: 0.04779593700602252\n",
      "Pair: ('ADSK', 'TYL'), p-value: 0.04831131848677622\n",
      "Pair: ('ACN', 'NXPI'), p-value: 0.04859819195853415\n",
      "Pair: ('MU', 'STX'), p-value: 0.04994099332488335\n"
     ]
    }
   ],
   "source": [
    "pairs_with_p_values = [(pair, values['p-value']) for pair, values in significant_pairs.items()]\n",
    "\n",
    "sorted_pairs = sorted(pairs_with_p_values, key=lambda x: x[1])\n",
    "\n",
    "print(\"Pairs sorted by p-value (lowest to highest):\")\n",
    "for pair, p_value in sorted_pairs:\n",
    "    print(f\"Pair: {pair}, p-value: {p_value}\")\n"
   ],
   "metadata": {
    "collapsed": false,
    "ExecuteTime": {
     "end_time": "2024-01-15T17:11:48.670819Z",
     "start_time": "2024-01-15T17:11:48.660484Z"
    }
   }
  },
  {
   "cell_type": "code",
   "execution_count": 50,
   "outputs": [],
   "source": [],
   "metadata": {
    "collapsed": false,
    "ExecuteTime": {
     "end_time": "2024-01-15T17:11:48.671801Z",
     "start_time": "2024-01-15T17:11:48.664582Z"
    }
   }
  },
  {
   "cell_type": "code",
   "execution_count": 50,
   "outputs": [],
   "source": [],
   "metadata": {
    "collapsed": false,
    "ExecuteTime": {
     "end_time": "2024-01-15T17:11:48.672155Z",
     "start_time": "2024-01-15T17:11:48.665121Z"
    }
   }
  }
 ],
 "metadata": {
  "kernelspec": {
   "display_name": "Python 3",
   "language": "python",
   "name": "python3"
  },
  "language_info": {
   "codemirror_mode": {
    "name": "ipython",
    "version": 2
   },
   "file_extension": ".py",
   "mimetype": "text/x-python",
   "name": "python",
   "nbconvert_exporter": "python",
   "pygments_lexer": "ipython2",
   "version": "2.7.6"
  }
 },
 "nbformat": 4,
 "nbformat_minor": 0
}
